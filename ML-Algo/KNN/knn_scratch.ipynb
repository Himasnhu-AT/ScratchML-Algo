{
 "cells": [
  {
   "cell_type": "markdown",
   "id": "a8712a48",
   "metadata": {},
   "source": [
    "# KNN"
   ]
  },
  {
   "cell_type": "markdown",
   "id": "ccf2d425",
   "metadata": {},
   "source": [
    "### Import libraries and load data"
   ]
  },
  {
   "cell_type": "code",
   "execution_count": 3,
   "id": "9e5efc38",
   "metadata": {},
   "outputs": [
    {
     "data": {
      "text/html": [
       "<div>\n",
       "<style scoped>\n",
       "    .dataframe tbody tr th:only-of-type {\n",
       "        vertical-align: middle;\n",
       "    }\n",
       "\n",
       "    .dataframe tbody tr th {\n",
       "        vertical-align: top;\n",
       "    }\n",
       "\n",
       "    .dataframe thead th {\n",
       "        text-align: right;\n",
       "    }\n",
       "</style>\n",
       "<table border=\"1\" class=\"dataframe\">\n",
       "  <thead>\n",
       "    <tr style=\"text-align: right;\">\n",
       "      <th></th>\n",
       "      <th>Gender</th>\n",
       "      <th>Age</th>\n",
       "      <th>Salary</th>\n",
       "      <th>Purchase Iphone</th>\n",
       "    </tr>\n",
       "  </thead>\n",
       "  <tbody>\n",
       "    <tr>\n",
       "      <th>0</th>\n",
       "      <td>0</td>\n",
       "      <td>19</td>\n",
       "      <td>19000</td>\n",
       "      <td>0</td>\n",
       "    </tr>\n",
       "    <tr>\n",
       "      <th>1</th>\n",
       "      <td>0</td>\n",
       "      <td>35</td>\n",
       "      <td>20000</td>\n",
       "      <td>0</td>\n",
       "    </tr>\n",
       "    <tr>\n",
       "      <th>2</th>\n",
       "      <td>1</td>\n",
       "      <td>26</td>\n",
       "      <td>43000</td>\n",
       "      <td>0</td>\n",
       "    </tr>\n",
       "    <tr>\n",
       "      <th>3</th>\n",
       "      <td>1</td>\n",
       "      <td>27</td>\n",
       "      <td>57000</td>\n",
       "      <td>0</td>\n",
       "    </tr>\n",
       "    <tr>\n",
       "      <th>4</th>\n",
       "      <td>0</td>\n",
       "      <td>19</td>\n",
       "      <td>76000</td>\n",
       "      <td>0</td>\n",
       "    </tr>\n",
       "  </tbody>\n",
       "</table>\n",
       "</div>"
      ],
      "text/plain": [
       "   Gender  Age  Salary  Purchase Iphone\n",
       "0       0   19   19000                0\n",
       "1       0   35   20000                0\n",
       "2       1   26   43000                0\n",
       "3       1   27   57000                0\n",
       "4       0   19   76000                0"
      ]
     },
     "execution_count": 3,
     "metadata": {},
     "output_type": "execute_result"
    }
   ],
   "source": [
    "import numpy as np\n",
    "import pandas as pd \n",
    "dataset = pd.read_csv(\"iphone_purchase_records.csv\")\n",
    "X = dataset.iloc[:,:-1].values\n",
    "y = dataset.iloc[:, 3].values\n",
    "dataset.Gender=dataset.Gender.map({'Female':1,'Male':0})\n",
    "dataset.head(5)"
   ]
  },
  {
   "cell_type": "markdown",
   "id": "525f8713",
   "metadata": {},
   "source": [
    "### Data pre-processing and selection"
   ]
  },
  {
   "cell_type": "code",
   "execution_count": 4,
   "id": "987cf418",
   "metadata": {},
   "outputs": [],
   "source": [
    "from sklearn.preprocessing import LabelEncoder\n",
    "labelEncoder_gender =  LabelEncoder()\n",
    "X[:,0] = labelEncoder_gender.fit_transform(X[:,0])\n",
    "\n",
    "X = np.vstack(X[:, :]).astype(np.float64)"
   ]
  },
  {
   "cell_type": "markdown",
   "id": "cd629313",
   "metadata": {},
   "source": [
    "### Training and Testing data"
   ]
  },
  {
   "cell_type": "code",
   "execution_count": 5,
   "id": "54b5a638",
   "metadata": {},
   "outputs": [],
   "source": [
    "train_size = int(dataset.shape[0]*0.60)"
   ]
  },
  {
   "cell_type": "code",
   "execution_count": 6,
   "id": "b8269a8e",
   "metadata": {},
   "outputs": [
    {
     "name": "stdout",
     "output_type": "stream",
     "text": [
      "Train_Shape:  (240, 4)\n",
      "Test_Shape:  (160, 4)\n"
     ]
    }
   ],
   "source": [
    "train_df = dataset.iloc[:train_size,:] \n",
    "test_df = dataset.iloc[train_size:,:]\n",
    "train = dataset.values\n",
    "test = test_df.values\n",
    "y_true = test[:,-1]\n",
    "print('Train_Shape: ',train_df.shape)\n",
    "print('Test_Shape: ',test_df.shape)"
   ]
  },
  {
   "cell_type": "markdown",
   "id": "9b5b1eca",
   "metadata": {},
   "source": [
    "### KNN in 3 Steps:\n",
    "1. Measure distance (Euclidean Distance or Manhattan Distance)\n",
    "2. Get nearest neighbours\n",
    "3. Predict Classifier"
   ]
  },
  {
   "cell_type": "markdown",
   "id": "1eac0361",
   "metadata": {},
   "source": [
    "#### Step 1. Euclidian distance\n",
    "- Measuring Distance using Euclidean Distance:\n",
    "  <b>Mathematical formula √ (x2 − x1)2 + (y2 − y1)2</b>"
   ]
  },
  {
   "cell_type": "code",
   "execution_count": 7,
   "id": "b1513390",
   "metadata": {},
   "outputs": [],
   "source": [
    "from math import sqrt\n",
    "def euclidean_distance(x_test, x_train):\n",
    "    distance = 0\n",
    "    for i in range(len(x_test)-1):\n",
    "        distance += (x_test[i]-x_train[i])**2\n",
    "    return sqrt(distance)"
   ]
  },
  {
   "cell_type": "markdown",
   "id": "ba1f5707",
   "metadata": {},
   "source": [
    "#### Step 2. Getting the nearest neighbours"
   ]
  },
  {
   "cell_type": "code",
   "execution_count": 8,
   "id": "1f98eeb0",
   "metadata": {},
   "outputs": [],
   "source": [
    "def get_neighbors(x_test, x_train, num_neighbors):\n",
    "    distances = []\n",
    "    data = []\n",
    "    for i in x_train:\n",
    "        distances.append(euclidean_distance(x_test,i))\n",
    "        data.append(i)\n",
    "    distances = np.array(distances)\n",
    "    data = np.array(data)\n",
    "    sort_indexes = distances.argsort()             #argsort() function returns indices by sorting distances data in ascending order\n",
    "    data = data[sort_indexes]                      #modifying our data based on sorted indices, so that we can get the nearest neightbours\n",
    "    return data[:num_neighbors]     "
   ]
  },
  {
   "cell_type": "markdown",
   "id": "ceba0d82",
   "metadata": {},
   "source": [
    "#### Step 3. Predicting the classifier of which our new data point belongs to."
   ]
  },
  {
   "cell_type": "code",
   "execution_count": 9,
   "id": "47f2b306",
   "metadata": {},
   "outputs": [],
   "source": [
    "def prediction(x_test, x_train, num_neighbors):\n",
    "    classes = []\n",
    "    neighbors = get_neighbors(x_test, x_train, num_neighbors)\n",
    "    for i in neighbors:\n",
    "        classes.append(i[-1])\n",
    "    predicted = max(classes, key=classes.count)              #taking the most repeated class\n",
    "    return predicted"
   ]
  },
  {
   "cell_type": "markdown",
   "id": "e746c8f0",
   "metadata": {},
   "source": [
    "### Measuring the accuracy. So that we can know how accurate our model would predict new data samples"
   ]
  },
  {
   "cell_type": "code",
   "execution_count": 10,
   "id": "79514b57",
   "metadata": {},
   "outputs": [],
   "source": [
    "def accuracy(y_true, y_pred):\n",
    "    num_correct = 0\n",
    "    for i in range(len(y_true)):\n",
    "        if y_true[i]==y_pred[i]:\n",
    "            num_correct+=1\n",
    "    accuracy = num_correct/len(y_true)\n",
    "    return accuracy"
   ]
  },
  {
   "cell_type": "markdown",
   "id": "a234695f",
   "metadata": {},
   "source": [
    "### Predicting test data"
   ]
  },
  {
   "cell_type": "code",
   "execution_count": 11,
   "id": "9f2a120a",
   "metadata": {},
   "outputs": [],
   "source": [
    "y_pred = []\n",
    "for i in test:\n",
    "    y_pred.append(prediction(i, train, 4))"
   ]
  },
  {
   "cell_type": "code",
   "execution_count": 12,
   "id": "0540ffa2",
   "metadata": {},
   "outputs": [],
   "source": [
    "accuracy = accuracy(y_true, y_pred)"
   ]
  },
  {
   "cell_type": "markdown",
   "id": "b1dbb18a",
   "metadata": {},
   "source": [
    "### Accuracy"
   ]
  },
  {
   "cell_type": "code",
   "execution_count": 13,
   "id": "dc33f30b",
   "metadata": {},
   "outputs": [
    {
     "data": {
      "text/plain": [
       "89.375"
      ]
     },
     "execution_count": 13,
     "metadata": {},
     "output_type": "execute_result"
    }
   ],
   "source": [
    "accuracy*100"
   ]
  },
  {
   "cell_type": "markdown",
   "id": "a1cb4888",
   "metadata": {},
   "source": [
    "### Sample Output"
   ]
  },
  {
   "cell_type": "code",
   "execution_count": 14,
   "id": "dd8a5169",
   "metadata": {},
   "outputs": [
    {
     "data": {
      "text/html": [
       "<div>\n",
       "<style scoped>\n",
       "    .dataframe tbody tr th:only-of-type {\n",
       "        vertical-align: middle;\n",
       "    }\n",
       "\n",
       "    .dataframe tbody tr th {\n",
       "        vertical-align: top;\n",
       "    }\n",
       "\n",
       "    .dataframe thead th {\n",
       "        text-align: right;\n",
       "    }\n",
       "</style>\n",
       "<table border=\"1\" class=\"dataframe\">\n",
       "  <thead>\n",
       "    <tr style=\"text-align: right;\">\n",
       "      <th></th>\n",
       "      <th>Gender</th>\n",
       "      <th>Age</th>\n",
       "      <th>Salary</th>\n",
       "      <th>Purchase Iphone</th>\n",
       "    </tr>\n",
       "  </thead>\n",
       "  <tbody>\n",
       "    <tr>\n",
       "      <th>244</th>\n",
       "      <td>1</td>\n",
       "      <td>41</td>\n",
       "      <td>72000</td>\n",
       "      <td>0</td>\n",
       "    </tr>\n",
       "    <tr>\n",
       "      <th>385</th>\n",
       "      <td>0</td>\n",
       "      <td>56</td>\n",
       "      <td>60000</td>\n",
       "      <td>1</td>\n",
       "    </tr>\n",
       "    <tr>\n",
       "      <th>250</th>\n",
       "      <td>1</td>\n",
       "      <td>44</td>\n",
       "      <td>39000</td>\n",
       "      <td>0</td>\n",
       "    </tr>\n",
       "    <tr>\n",
       "      <th>317</th>\n",
       "      <td>0</td>\n",
       "      <td>35</td>\n",
       "      <td>55000</td>\n",
       "      <td>0</td>\n",
       "    </tr>\n",
       "    <tr>\n",
       "      <th>281</th>\n",
       "      <td>0</td>\n",
       "      <td>35</td>\n",
       "      <td>61000</td>\n",
       "      <td>0</td>\n",
       "    </tr>\n",
       "  </tbody>\n",
       "</table>\n",
       "</div>"
      ],
      "text/plain": [
       "     Gender  Age  Salary  Purchase Iphone\n",
       "244       1   41   72000                0\n",
       "385       0   56   60000                1\n",
       "250       1   44   39000                0\n",
       "317       0   35   55000                0\n",
       "281       0   35   61000                0"
      ]
     },
     "execution_count": 14,
     "metadata": {},
     "output_type": "execute_result"
    }
   ],
   "source": [
    "test_df.sample(5)"
   ]
  },
  {
   "cell_type": "code",
   "execution_count": null,
   "id": "31c8e63d",
   "metadata": {},
   "outputs": [],
   "source": []
  }
 ],
 "metadata": {
  "kernelspec": {
   "display_name": "Python 3 (ipykernel)",
   "language": "python",
   "name": "python3"
  },
  "language_info": {
   "codemirror_mode": {
    "name": "ipython",
    "version": 3
   },
   "file_extension": ".py",
   "mimetype": "text/x-python",
   "name": "python",
   "nbconvert_exporter": "python",
   "pygments_lexer": "ipython3",
   "version": "3.11.7"
  }
 },
 "nbformat": 4,
 "nbformat_minor": 5
}
