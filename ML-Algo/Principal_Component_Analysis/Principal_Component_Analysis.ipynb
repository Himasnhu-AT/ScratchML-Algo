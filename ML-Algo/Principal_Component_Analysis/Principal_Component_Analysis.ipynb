{
  "cells": [
    {
      "cell_type": "markdown",
      "metadata": {
        "id": "YHDi1DNIb6zw"
      },
      "source": [
        "## README\n",
        "To run the file, upload the data.csv file. In my case, I have uploaded it to sample_data folder in session storage. You can upload it elsewhere but remember to change the path mentioned in code afterwards."
      ]
    },
    {
      "cell_type": "markdown",
      "metadata": {
        "id": "aNiQmgXNbaxJ"
      },
      "source": [
        "# Principal Component Analysis\n",
        "Principal Component Analysis (PCA) is an algorithm that reduces the dimen\u0002sionality of a data set to a lower-dimensional linear subspace by linear projection\n",
        "in such a way that the reconstruction error made by the linear projection is as\n",
        "low as possible."
      ]
    },
    {
      "cell_type": "code",
      "execution_count": 3,
      "metadata": {
        "id": "qmZwMukZKyXr"
      },
      "outputs": [],
      "source": [
        "import numpy as np\n",
        "import pandas as pd\n",
        "from sklearn.preprocessing import StandardScaler"
      ]
    },
    {
      "cell_type": "code",
      "execution_count": 4,
      "metadata": {
        "id": "38pLsddIKyXw"
      },
      "outputs": [
        {
          "data": {
            "text/html": [
              "<div>\n",
              "<style scoped>\n",
              "    .dataframe tbody tr th:only-of-type {\n",
              "        vertical-align: middle;\n",
              "    }\n",
              "\n",
              "    .dataframe tbody tr th {\n",
              "        vertical-align: top;\n",
              "    }\n",
              "\n",
              "    .dataframe thead th {\n",
              "        text-align: right;\n",
              "    }\n",
              "</style>\n",
              "<table border=\"1\" class=\"dataframe\">\n",
              "  <thead>\n",
              "    <tr style=\"text-align: right;\">\n",
              "      <th></th>\n",
              "      <th>X</th>\n",
              "      <th>Y</th>\n",
              "      <th>month</th>\n",
              "      <th>day</th>\n",
              "      <th>FFMC</th>\n",
              "      <th>DMC</th>\n",
              "      <th>DC</th>\n",
              "      <th>ISI</th>\n",
              "      <th>temp</th>\n",
              "      <th>RH</th>\n",
              "      <th>wind</th>\n",
              "      <th>rain</th>\n",
              "      <th>area</th>\n",
              "    </tr>\n",
              "  </thead>\n",
              "  <tbody>\n",
              "    <tr>\n",
              "      <th>0</th>\n",
              "      <td>7</td>\n",
              "      <td>5</td>\n",
              "      <td>3</td>\n",
              "      <td>6</td>\n",
              "      <td>86.2</td>\n",
              "      <td>26.2</td>\n",
              "      <td>94.3</td>\n",
              "      <td>5.1</td>\n",
              "      <td>8.2</td>\n",
              "      <td>51</td>\n",
              "      <td>6.7</td>\n",
              "      <td>0.0</td>\n",
              "      <td>0.0</td>\n",
              "    </tr>\n",
              "    <tr>\n",
              "      <th>1</th>\n",
              "      <td>7</td>\n",
              "      <td>4</td>\n",
              "      <td>10</td>\n",
              "      <td>3</td>\n",
              "      <td>90.6</td>\n",
              "      <td>35.4</td>\n",
              "      <td>669.1</td>\n",
              "      <td>6.7</td>\n",
              "      <td>18.0</td>\n",
              "      <td>33</td>\n",
              "      <td>0.9</td>\n",
              "      <td>0.0</td>\n",
              "      <td>0.0</td>\n",
              "    </tr>\n",
              "    <tr>\n",
              "      <th>2</th>\n",
              "      <td>7</td>\n",
              "      <td>4</td>\n",
              "      <td>10</td>\n",
              "      <td>7</td>\n",
              "      <td>90.6</td>\n",
              "      <td>43.7</td>\n",
              "      <td>686.9</td>\n",
              "      <td>6.7</td>\n",
              "      <td>14.6</td>\n",
              "      <td>33</td>\n",
              "      <td>1.3</td>\n",
              "      <td>0.0</td>\n",
              "      <td>0.0</td>\n",
              "    </tr>\n",
              "    <tr>\n",
              "      <th>3</th>\n",
              "      <td>8</td>\n",
              "      <td>6</td>\n",
              "      <td>3</td>\n",
              "      <td>6</td>\n",
              "      <td>91.7</td>\n",
              "      <td>33.3</td>\n",
              "      <td>77.5</td>\n",
              "      <td>9.0</td>\n",
              "      <td>8.3</td>\n",
              "      <td>97</td>\n",
              "      <td>4.0</td>\n",
              "      <td>0.2</td>\n",
              "      <td>0.0</td>\n",
              "    </tr>\n",
              "    <tr>\n",
              "      <th>4</th>\n",
              "      <td>8</td>\n",
              "      <td>6</td>\n",
              "      <td>3</td>\n",
              "      <td>1</td>\n",
              "      <td>89.3</td>\n",
              "      <td>51.3</td>\n",
              "      <td>102.2</td>\n",
              "      <td>9.6</td>\n",
              "      <td>11.4</td>\n",
              "      <td>99</td>\n",
              "      <td>1.8</td>\n",
              "      <td>0.0</td>\n",
              "      <td>0.0</td>\n",
              "    </tr>\n",
              "  </tbody>\n",
              "</table>\n",
              "</div>"
            ],
            "text/plain": [
              "   X  Y  month  day  FFMC   DMC     DC  ISI  temp  RH  wind  rain  area\n",
              "0  7  5      3    6  86.2  26.2   94.3  5.1   8.2  51   6.7   0.0   0.0\n",
              "1  7  4     10    3  90.6  35.4  669.1  6.7  18.0  33   0.9   0.0   0.0\n",
              "2  7  4     10    7  90.6  43.7  686.9  6.7  14.6  33   1.3   0.0   0.0\n",
              "3  8  6      3    6  91.7  33.3   77.5  9.0   8.3  97   4.0   0.2   0.0\n",
              "4  8  6      3    1  89.3  51.3  102.2  9.6  11.4  99   1.8   0.0   0.0"
            ]
          },
          "execution_count": 4,
          "metadata": {},
          "output_type": "execute_result"
        }
      ],
      "source": [
        "data = pd.read_csv('data.csv')\n",
        "data.head()"
      ]
    },
    {
      "cell_type": "code",
      "execution_count": 5,
      "metadata": {
        "id": "M-5p83JXKyXy"
      },
      "outputs": [],
      "source": [
        "# X should be transposed to convert rows to features and columns to data points\n",
        "# 12 x 517 size matrix where there are 12 features and 517 data points\n",
        "X = np.transpose(data.iloc[:, :-1].values)\n",
        "\n",
        "label = data.iloc[:, -1].values\n",
        "\n",
        "# X = StandardScaler().fit_transform(X) #standardize the data\n",
        "# X.shape"
      ]
    },
    {
      "cell_type": "code",
      "execution_count": 6,
      "metadata": {
        "id": "Vqn7TLhkKyXz"
      },
      "outputs": [],
      "source": [
        "mean_vector = np.mean(X, axis=1)\n",
        "mean_matrix = np.tile(mean_vector, (X.shape[1],1))\n",
        "X = X - mean_matrix.T"
      ]
    },
    {
      "cell_type": "code",
      "execution_count": 7,
      "metadata": {
        "id": "1dfX5uokKyX0"
      },
      "outputs": [],
      "source": [
        "Cov = (np.dot(X, X.T))/(X.shape[1])\n",
        "# Cov = np.cov(X)\n",
        "\n",
        "n = Cov.shape[0] \n",
        "\n",
        "q = 5\n",
        "# Cov.shape"
      ]
    },
    {
      "cell_type": "markdown",
      "metadata": {
        "id": "knqvzxPZbvV8"
      },
      "source": [
        "# Reconstruction"
      ]
    },
    {
      "cell_type": "code",
      "execution_count": 8,
      "metadata": {
        "id": "JvTs2QONKyX1"
      },
      "outputs": [],
      "source": [
        "# Corresponding Eigenvalues and Eigenvectors for Cov.\n",
        "eigenvalue, eigenvector = np.linalg.eig(Cov)\n",
        "\n",
        "eigval_eigvec = list(zip(*sorted(zip(eigenvalue,eigenvector), reverse=True)))\n",
        "\n",
        "principal_components = np.asarray(list(eigval_eigvec[1][:])).T\n",
        "\n",
        "P = principal_components[:q] # q x 12 matrix with q leading principal components in each row.\n",
        "\n",
        "Y = np.dot(P, X) \n",
        "# Y.shape"
      ]
    },
    {
      "cell_type": "code",
      "execution_count": 9,
      "metadata": {
        "colab": {
          "base_uri": "https://localhost:8080/"
        },
        "id": "q6TK8MmTKyX6",
        "outputId": "601a8db2-cdc1-4b27-90d6-7f894c6d959c"
      },
      "outputs": [
        {
          "name": "stdout",
          "output_type": "stream",
          "text": [
            "PCA Loss :  0.037985574963925295 %\n"
          ]
        }
      ],
      "source": [
        "variance_loss = sum(eigval_eigvec[0][q:]) \n",
        "\n",
        "total_variance = sum(eigval_eigvec[0][:]) \n",
        "\n",
        "print(\"PCA Loss : \", (variance_loss/total_variance)*100, \"%\") "
      ]
    },
    {
      "cell_type": "code",
      "execution_count": 10,
      "metadata": {
        "id": "ogv_58ZiKyX8"
      },
      "outputs": [
        {
          "name": "stdout",
          "output_type": "stream",
          "text": [
            "The R2 coefficient is :  0.02535067134925728\n",
            "Total elapsed time :  0:00:00.007069\n"
          ]
        }
      ],
      "source": [
        "from sklearn.linear_model import LinearRegression\n",
        "import datetime\n",
        "\n",
        "start_time = datetime.datetime.now()\n",
        "reg_original_data = LinearRegression().fit(X.T,label) \n",
        "\n",
        "print(\"The R2 coefficient is : \", reg_original_data.score(X.T, label)) \n",
        "\n",
        "end_time = datetime.datetime.now()\n",
        "print(\"Total elapsed time : \", end_time - start_time)"
      ]
    },
    {
      "cell_type": "code",
      "execution_count": 11,
      "metadata": {
        "id": "io41xcGyKyX9"
      },
      "outputs": [
        {
          "name": "stdout",
          "output_type": "stream",
          "text": [
            "The R2 coefficient is :  0.012739904147630488\n",
            "Total elapsed time :  0:00:00.002679\n"
          ]
        }
      ],
      "source": [
        "start_time = datetime.datetime.now()\n",
        "reg_pca_data = LinearRegression().fit(Y.T, label) \n",
        "\n",
        "print(\"The R2 coefficient is : \", reg_pca_data.score(Y.T, label))  \n",
        "\n",
        "end_time = datetime.datetime.now()\n",
        "print(\"Total elapsed time : \", end_time - start_time)"
      ]
    },
    {
      "cell_type": "markdown",
      "metadata": {
        "id": "s_KrCSPwatJs"
      },
      "source": [
        "# Observation\n",
        "It can be seen that even though the reconstructed data points has a lower R2 coefficient, it saves some time\n",
        "during the modelling of the linear regression. The time saved might be small for this example, but it makes a lot\n",
        "of difference when it comes to higher dimensional dataset and more complex modelling techniques. Linear Regression\n",
        "was just used for simplicity sake to show the working principles of PCA. That is, even though the dimension\n",
        "from the original data points has been reduced drastically, the reconstructed data points can still provide\n",
        "linear regression enough information to model the relationships between the dependent and independent variables."
      ]
    },
    {
      "cell_type": "code",
      "execution_count": 12,
      "metadata": {
        "id": "Xm0_oRA_KyX-"
      },
      "outputs": [
        {
          "data": {
            "text/plain": [
              "(5, 517)"
            ]
          },
          "execution_count": 12,
          "metadata": {},
          "output_type": "execute_result"
        }
      ],
      "source": [
        "from sklearn.decomposition import PCA\n",
        "pca = PCA(n_components=q)\n",
        "pca.fit(X.T)\n",
        "Y_2 = np.transpose(pca.transform(X.T))\n",
        "Y_2.shape"
      ]
    },
    {
      "cell_type": "code",
      "execution_count": 13,
      "metadata": {
        "id": "Q0F63r1EKyX_"
      },
      "outputs": [
        {
          "name": "stdout",
          "output_type": "stream",
          "text": [
            "0.5970902555675164\n"
          ]
        }
      ],
      "source": [
        "diff = sum(sum(pca.components_) - sum(P)) \n",
        "print(diff)"
      ]
    },
    {
      "cell_type": "markdown",
      "metadata": {
        "id": "QmIU3PpJbMxo"
      },
      "source": [
        "## Differences\n",
        "The difference between the principal components are not that much. Sklearn's PCA uses normalizations on the data, hence provides a slightly different result than my implementation."
      ]
    }
  ],
  "metadata": {
    "colab": {
      "collapsed_sections": [],
      "provenance": []
    },
    "kernelspec": {
      "display_name": "Python 3.10.6 64-bit",
      "language": "python",
      "name": "python3"
    },
    "language_info": {
      "codemirror_mode": {
        "name": "ipython",
        "version": 3
      },
      "file_extension": ".py",
      "mimetype": "text/x-python",
      "name": "python",
      "nbconvert_exporter": "python",
      "pygments_lexer": "ipython3",
      "version": "3.11.7"
    },
    "vscode": {
      "interpreter": {
        "hash": "2a8dfe095fce2b5e88c64a2c3ee084c8e0e0d70b23e7b95b1cfb538be294c5c8"
      }
    }
  },
  "nbformat": 4,
  "nbformat_minor": 0
}
