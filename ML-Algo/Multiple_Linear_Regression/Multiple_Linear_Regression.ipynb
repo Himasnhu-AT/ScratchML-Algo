{
  "cells": [
    {
      "cell_type": "markdown",
      "metadata": {
        "id": "jQWnqkHCH6ln"
      },
      "source": [
        "# Multiple Linear Regression\n",
        "### Using Gradient Descent"
      ]
    },
    {
      "cell_type": "code",
      "execution_count": 9,
      "metadata": {
        "id": "pcN9YClQHU9i"
      },
      "outputs": [],
      "source": [
        "import numpy as np\n",
        "import pandas as pd"
      ]
    },
    {
      "cell_type": "code",
      "execution_count": 10,
      "metadata": {
        "id": "OczzR2KGHU9l"
      },
      "outputs": [],
      "source": [
        "batch_size = 1000\n",
        "learning_rate = 0.000001\n",
        "num_of_epoch = 10000\n",
        "test_training_ratio = 0.2\n",
        "# dataset_path = '/content/sample_data/data.csv' # if running in collab\n",
        "dataset_path = 'data.csv' #if running locally"
      ]
    },
    {
      "cell_type": "code",
      "execution_count": 11,
      "metadata": {
        "id": "TqoZARBKHU9m"
      },
      "outputs": [
        {
          "data": {
            "text/html": [
              "<div>\n",
              "<style scoped>\n",
              "    .dataframe tbody tr th:only-of-type {\n",
              "        vertical-align: middle;\n",
              "    }\n",
              "\n",
              "    .dataframe tbody tr th {\n",
              "        vertical-align: top;\n",
              "    }\n",
              "\n",
              "    .dataframe thead th {\n",
              "        text-align: right;\n",
              "    }\n",
              "</style>\n",
              "<table border=\"1\" class=\"dataframe\">\n",
              "  <thead>\n",
              "    <tr style=\"text-align: right;\">\n",
              "      <th></th>\n",
              "      <th>AT</th>\n",
              "      <th>V</th>\n",
              "      <th>AP</th>\n",
              "      <th>RH</th>\n",
              "      <th>PE</th>\n",
              "    </tr>\n",
              "  </thead>\n",
              "  <tbody>\n",
              "    <tr>\n",
              "      <th>0</th>\n",
              "      <td>8.34</td>\n",
              "      <td>40.77</td>\n",
              "      <td>1010.84</td>\n",
              "      <td>90.01</td>\n",
              "      <td>480.48</td>\n",
              "    </tr>\n",
              "    <tr>\n",
              "      <th>1</th>\n",
              "      <td>23.64</td>\n",
              "      <td>58.49</td>\n",
              "      <td>1011.40</td>\n",
              "      <td>74.20</td>\n",
              "      <td>445.75</td>\n",
              "    </tr>\n",
              "    <tr>\n",
              "      <th>2</th>\n",
              "      <td>29.74</td>\n",
              "      <td>56.90</td>\n",
              "      <td>1007.15</td>\n",
              "      <td>41.91</td>\n",
              "      <td>438.76</td>\n",
              "    </tr>\n",
              "    <tr>\n",
              "      <th>3</th>\n",
              "      <td>19.07</td>\n",
              "      <td>49.69</td>\n",
              "      <td>1007.22</td>\n",
              "      <td>76.79</td>\n",
              "      <td>453.09</td>\n",
              "    </tr>\n",
              "    <tr>\n",
              "      <th>4</th>\n",
              "      <td>11.80</td>\n",
              "      <td>40.66</td>\n",
              "      <td>1017.13</td>\n",
              "      <td>97.20</td>\n",
              "      <td>464.43</td>\n",
              "    </tr>\n",
              "  </tbody>\n",
              "</table>\n",
              "</div>"
            ],
            "text/plain": [
              "      AT      V       AP     RH      PE\n",
              "0   8.34  40.77  1010.84  90.01  480.48\n",
              "1  23.64  58.49  1011.40  74.20  445.75\n",
              "2  29.74  56.90  1007.15  41.91  438.76\n",
              "3  19.07  49.69  1007.22  76.79  453.09\n",
              "4  11.80  40.66  1017.13  97.20  464.43"
            ]
          },
          "execution_count": 11,
          "metadata": {},
          "output_type": "execute_result"
        }
      ],
      "source": [
        "# Read the dataset\n",
        "df = pd.read_csv(dataset_path) \n",
        "df.head()"
      ]
    },
    {
      "cell_type": "code",
      "execution_count": 12,
      "metadata": {
        "id": "LWBsgFL2HU9o"
      },
      "outputs": [],
      "source": [
        "# Total_X is a matrix the size of 9568 X 4\n",
        "total_X = df.iloc[:, :-1].values \n",
        "\n",
        "# Total_Y is a vector the size of 9568\n",
        "total_y = df.iloc[:, -1].values  "
      ]
    },
    {
      "cell_type": "code",
      "execution_count": 13,
      "metadata": {
        "colab": {
          "base_uri": "https://localhost:8080/"
        },
        "id": "an5C6G4GHU9p",
        "outputId": "78b44bdf-1185-4852-bb81-ed73c8c66e13"
      },
      "outputs": [
        {
          "name": "stdout",
          "output_type": "stream",
          "text": [
            "[[1.00000e+00 8.34000e+00 4.07700e+01 1.01084e+03 9.00100e+01]\n",
            " [1.00000e+00 2.36400e+01 5.84900e+01 1.01140e+03 7.42000e+01]\n",
            " [1.00000e+00 2.97400e+01 5.69000e+01 1.00715e+03 4.19100e+01]\n",
            " [1.00000e+00 1.90700e+01 4.96900e+01 1.00722e+03 7.67900e+01]\n",
            " [1.00000e+00 1.18000e+01 4.06600e+01 1.01713e+03 9.72000e+01]]\n"
          ]
        }
      ],
      "source": [
        "b = np.ones((total_X.shape[0],total_X.shape[1]+1)) # b is a 9568 X 5 matrix filled with ones.\n",
        "b[:, 1:] = total_X #b is the total_X matrix except with first column filled with ones\n",
        "total_X = b #reassign\n",
        "print(total_X[:5])"
      ]
    },
    {
      "cell_type": "markdown",
      "metadata": {
        "id": "rGcm0qsTsBYu"
      },
      "source": [
        "In order for us to verify the accuracy later, we will reserve about 20% of the whole dataset."
      ]
    },
    {
      "cell_type": "code",
      "execution_count": 14,
      "metadata": {
        "id": "3ZznhA1lHU9q"
      },
      "outputs": [],
      "source": [
        "num_of_testing_example    = int(test_training_ratio*total_X.shape[0]) # (20/100) * 9568 = 1913.6. After flooring, 1913\n",
        "num_of_training_example   = total_X.shape[0] - num_of_testing_example # 9568 - 1913 = 7655\n",
        "X                         = total_X[:num_of_training_example] #matrix of size 7655 X 4. input X (according to the pdf note)\n",
        "y                         = total_y[:num_of_training_example] #vector of size 7655. input y (according to the pdf note)\n",
        "X_test                    = total_X[num_of_training_example:] #matrix of size 1913 X 4\n",
        "y_test                    = total_y[num_of_training_example:] #vector of size 1913"
      ]
    },
    {
      "cell_type": "code",
      "execution_count": 15,
      "metadata": {
        "id": "4kmMoNR3HU9q"
      },
      "outputs": [],
      "source": [
        "theta = np.random.rand((X.shape[1])) #randomly initialize theta as a vector of size 5"
      ]
    },
    {
      "cell_type": "markdown",
      "metadata": {
        "id": "c1tjdBu4Icnr"
      },
      "source": [
        "Parameters :\n",
        "\n",
        "    data_point : Batches of rows in the training set matrix\n",
        "    theta: theta vector\n",
        "\n",
        "    Process : matrix (data points) multiplies vector (theta) \n",
        "\n",
        "    Output : prediction of the model, y_hat or h(X)"
      ]
    },
    {
      "cell_type": "code",
      "execution_count": 16,
      "metadata": {
        "id": "e_DkDC3SHU9r"
      },
      "outputs": [],
      "source": [
        "def find_y_hat(data_point,theta):\n",
        "    return np.dot(data_point, theta) "
      ]
    },
    {
      "cell_type": "code",
      "execution_count": 17,
      "metadata": {
        "id": "MVhlFsvtHU9s"
      },
      "outputs": [
        {
          "name": "stdout",
          "output_type": "stream",
          "text": [
            "Testing loss with MSE is :  303.22668336958947\n",
            "The testing loss with R2 is : -1.0162202998998908\n"
          ]
        }
      ],
      "source": [
        "def testing_with_MSE():\n",
        "    \n",
        "    diff = X_test.dot(theta) - y_test #calculate (h(x) - y)\n",
        "    \n",
        "    loss = (1/(2*X_test.shape[0]))*(diff.dot(diff)) #calculate the loss using the defined equation\n",
        "    \n",
        "    print(\"Testing loss with MSE is : \", loss)\n",
        "    \n",
        "def testing_with_R2():\n",
        "    \n",
        "    diff = X_test.dot(theta) - y_test #calculates h(x) - y\n",
        "\n",
        "    u = sum(np.square(diff)) #variance of the data from the prediction model\n",
        "    v = sum(np.square(y_test - np.mean(y_test))) #variance of the original data\n",
        "\n",
        "    print(\"The testing loss with R2 is :\", (1 - (u/v))) #print the R2 coefficient\n",
        "\n",
        "\n",
        "testing_with_MSE() #run the testing with MSE before the training begins\n",
        "testing_with_R2() #run the testing with R2 before the training begins"
      ]
    },
    {
      "cell_type": "code",
      "execution_count": 18,
      "metadata": {
        "id": "x9DAlWRVHU9s"
      },
      "outputs": [
        {
          "name": "stdout",
          "output_type": "stream",
          "text": [
            "Epoch :  0\n",
            "Loss :  302.97629282240126\n",
            "Epoch :  1000\n",
            "Loss :  40.35318992698053\n",
            "Epoch :  2000\n",
            "Loss :  26.891062659301348\n",
            "Epoch :  3000\n",
            "Loss :  23.996962762746964\n",
            "Epoch :  4000\n",
            "Loss :  22.386242074412944\n",
            "Epoch :  5000\n",
            "Loss :  21.092088313511443\n",
            "Epoch :  6000\n",
            "Loss :  19.983528498107276\n",
            "Epoch :  7000\n",
            "Loss :  19.02595613675143\n",
            "Epoch :  8000\n",
            "Loss :  18.19804172849076\n",
            "Epoch :  9000\n",
            "Loss :  17.482190822012928\n"
          ]
        }
      ],
      "source": [
        "for epoch in range(num_of_epoch):\n",
        "    \n",
        "    diff = X.dot(theta) - y #calculate (h(x) - y)\n",
        "    \n",
        "    loss = (1/(2*X.shape[0]))*(diff.dot(diff))  #calculate the loss using the defined equation\n",
        "    \n",
        "    for index_first in range(0, X.shape[0], batch_size): #loop through the dataset with the given batch size\n",
        "        \n",
        "        index_last = index_first + batch_size #index_first - index_last = batch size\n",
        "        index_last = None if index_last > X.shape[0] else index_last #if index_last > total no. of data points, it will be set to None\n",
        "        \n",
        "        y_hat = find_y_hat(X[index_first:index_last], theta) #predicted output\n",
        "        \n",
        "        m = y_hat.shape[0] # number of data points i.e. batch size\n",
        "        \n",
        "        y_hat_diff = y_hat - y[index_first:index_last] #calculate (h(x) - y)\n",
        "        \n",
        "        \n",
        "        for j in range(theta.shape[0]): #gradient descent\n",
        "        \n",
        "            x_j = X[index_first:index_last, j] #get the x_j vector for that specified batch size\n",
        "        \n",
        "            par_der = (1/m)*(y_hat_diff.dot(x_j)) #calculate the partial derivative\n",
        "            \n",
        "            theta[j] = theta[j] - learning_rate*par_der\n",
        "    \n",
        "    if epoch % 1000 == 0: #print loss for every 500 epoch starting from 0th epoch\n",
        "        print(\"Epoch : \", epoch)\n",
        "        print(\"Loss : \", loss)\n",
        "    "
      ]
    },
    {
      "cell_type": "code",
      "execution_count": 19,
      "metadata": {
        "id": "NtVREv88HU9u"
      },
      "outputs": [
        {
          "name": "stdout",
          "output_type": "stream",
          "text": [
            "[ 0.104257   -0.83328772 -0.66685975  0.49837422  0.02744297]\n"
          ]
        }
      ],
      "source": [
        "print(theta)"
      ]
    },
    {
      "cell_type": "code",
      "execution_count": 20,
      "metadata": {
        "id": "jFHrWhu7HU9u"
      },
      "outputs": [
        {
          "name": "stdout",
          "output_type": "stream",
          "text": [
            "Testing loss with MSE is :  16.595353598483687\n",
            "The testing loss with R2 is : 0.8896538772991269\n"
          ]
        }
      ],
      "source": [
        "testing_with_MSE() #as expected gradient descent optimization works slightly worse than the normal equation method.\n",
        "testing_with_R2()"
      ]
    },
    {
      "cell_type": "code",
      "execution_count": 21,
      "metadata": {
        "id": "AdhHZ-wDHU9v"
      },
      "outputs": [
        {
          "data": {
            "text/plain": [
              "array([-1.85355946, -0.98030388, -2.08395879, ..., -0.47191881,\n",
              "        4.77332406,  0.73207242])"
            ]
          },
          "execution_count": 21,
          "metadata": {},
          "output_type": "execute_result"
        }
      ],
      "source": [
        "X_test.dot(theta)- y_test"
      ]
    }
  ],
  "metadata": {
    "colab": {
      "provenance": []
    },
    "kernelspec": {
      "display_name": "Python 3",
      "language": "python",
      "name": "python3"
    },
    "language_info": {
      "codemirror_mode": {
        "name": "ipython",
        "version": 3
      },
      "file_extension": ".py",
      "mimetype": "text/x-python",
      "name": "python",
      "nbconvert_exporter": "python",
      "pygments_lexer": "ipython3",
      "version": "3.11.7"
    }
  },
  "nbformat": 4,
  "nbformat_minor": 0
}
